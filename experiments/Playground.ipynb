{
 "cells": [
  {
   "cell_type": "code",
   "execution_count": null,
   "id": "ee9d8241-8a05-47dc-8f1f-17893b116e4a",
   "metadata": {
    "tags": []
   },
   "outputs": [],
   "source": [
    "!pip install pydantic\n",
    "!pip install yaml\n",
    "!pip install networkx\n",
    "!pip install matplotlib"
   ]
  },
  {
   "cell_type": "code",
   "execution_count": 1,
   "id": "2ae1661c-aac7-40e5-9173-1975ae691ffd",
   "metadata": {
    "tags": []
   },
   "outputs": [],
   "source": [
    "from pydantic import BaseModel, root_validator\n",
    "from typing import Dict, List\n",
    "import networkx as nx\n",
    "\n",
    "class LocationConfig(BaseModel):\n",
    "    name: str\n",
    "    description: str\n",
    "    locations: Dict[str, 'LocationConfig'] = None\n",
    "    connections: List[Dict[str, str]] = []\n",
    "    \n",
    "    @root_validator\n",
    "    def check_connects_with(cls, values):\n",
    "        if not values.get(\"locations\") or not values.get(\"connections\"):\n",
    "            return values\n",
    "        \n",
    "        location_names = [name for name, _ in values.get(\"locations\").items()]\n",
    "        \n",
    "        for connection in values.get(\"connections\"):\n",
    "            wrong_connection = [f\"{f} <-> {t}\" for f,t in connection.items() if f not in location_names or t not in location_names]\n",
    "            \n",
    "            if wrong_connection:\n",
    "                raise ValueError(f\"The connection <{wrong_connection}> does not exist in {location_names}\")\n",
    "        \n",
    "        return values\n",
    "    \n",
    "class SimulationConfig(BaseModel):\n",
    "    world: LocationConfig\n"
   ]
  },
  {
   "cell_type": "code",
   "execution_count": 2,
   "id": "2d34f9f8-aa4e-4459-993d-f18656f4d998",
   "metadata": {
    "tags": []
   },
   "outputs": [
    {
     "name": "stdout",
     "output_type": "stream",
     "text": [
      "SimulationConfig(world=LocationConfig(name='Awesome World', description='It is all awesome here.', locations={'townhall': LocationConfig(name='Jims Townhall', description='The place to be ;)', locations=None, connections=[]), 'jims_cafe': LocationConfig(name='Jims Cafe', description='Cozy coffee', locations={'kitchen': LocationConfig(name='Kitchen', description='Place where the meal is prepared', locations={'fride': LocationConfig(name='Fridge', description=\"Let's the food stay cool\", locations=None, connections=[]), 'oven': LocationConfig(name='Oven', description='Can cook some meal', locations=None, connections=[])}, connections=[]), 'living_room': LocationConfig(name='Living Room', description='Place where the Guests are relaxing', locations=None, connections=[]), 'entrance': LocationConfig(name='Entrance', description='Wait here until you will get your table', locations=None, connections=[]), 'restroom': LocationConfig(name='Restroom', description='Refresh yourself there', locations=None, connections=[])}, connections=[{'living_room': 'kitchen'}, {'restroom': 'entrance'}, {'entrance': 'living_room'}]), 'johnson_house': LocationConfig(name='Johnson House', description='The Johnson Family lives here', locations=None, connections=[])}, connections=[{'townhall': 'jims_cafe'}, {'johnson_house': 'townhall'}]))\n"
     ]
    }
   ],
   "source": [
    "import yaml\n",
    "from pprint import pprint as pp\n",
    "\n",
    "_config = []\n",
    "config = []\n",
    "\n",
    "with open(\"gen_agent/config.yaml\", \"rb\") as file:\n",
    "    _config = yaml.safe_load(file)\n",
    "    config = SimulationConfig(**_config)\n",
    "    \n",
    "pp(config)"
   ]
  },
  {
   "cell_type": "code",
   "execution_count": 29,
   "id": "0a51f8c5-22ae-4be3-ba6a-b88e0a507e5d",
   "metadata": {
    "tags": []
   },
   "outputs": [
    {
     "name": "stdout",
     "output_type": "stream",
     "text": [
      "PARENT  locationid townhall\n",
      "PARENT  locationid jims_cafe\n"
     ]
    },
    {
     "ename": "NetworkXError",
     "evalue": "Input is not a valid edge list",
     "output_type": "error",
     "traceback": [
      "\u001b[0;31m---------------------------------------------------------------------------\u001b[0m",
      "\u001b[0;31mNetworkXError\u001b[0m                             Traceback (most recent call last)",
      "File \u001b[0;32m~/miniconda3/lib/python3.10/site-packages/networkx/convert.py:172\u001b[0m, in \u001b[0;36mto_networkx_graph\u001b[0;34m(data, create_using, multigraph_input)\u001b[0m\n\u001b[1;32m    171\u001b[0m \u001b[38;5;28;01mtry\u001b[39;00m:\n\u001b[0;32m--> 172\u001b[0m     \u001b[38;5;28;01mreturn\u001b[39;00m \u001b[43mfrom_edgelist\u001b[49m\u001b[43m(\u001b[49m\u001b[43mdata\u001b[49m\u001b[43m,\u001b[49m\u001b[43m \u001b[49m\u001b[43mcreate_using\u001b[49m\u001b[38;5;241;43m=\u001b[39;49m\u001b[43mcreate_using\u001b[49m\u001b[43m)\u001b[49m\n\u001b[1;32m    173\u001b[0m \u001b[38;5;28;01mexcept\u001b[39;00m \u001b[38;5;167;01mException\u001b[39;00m \u001b[38;5;28;01mas\u001b[39;00m err:\n",
      "File \u001b[0;32m~/miniconda3/lib/python3.10/site-packages/networkx/convert.py:490\u001b[0m, in \u001b[0;36mfrom_edgelist\u001b[0;34m(edgelist, create_using)\u001b[0m\n\u001b[1;32m    489\u001b[0m G \u001b[38;5;241m=\u001b[39m nx\u001b[38;5;241m.\u001b[39mempty_graph(\u001b[38;5;241m0\u001b[39m, create_using)\n\u001b[0;32m--> 490\u001b[0m \u001b[43mG\u001b[49m\u001b[38;5;241;43m.\u001b[39;49m\u001b[43madd_edges_from\u001b[49m\u001b[43m(\u001b[49m\u001b[43medgelist\u001b[49m\u001b[43m)\u001b[49m\n\u001b[1;32m    491\u001b[0m \u001b[38;5;28;01mreturn\u001b[39;00m G\n",
      "File \u001b[0;32m~/miniconda3/lib/python3.10/site-packages/networkx/classes/graph.py:1024\u001b[0m, in \u001b[0;36mGraph.add_edges_from\u001b[0;34m(self, ebunch_to_add, **attr)\u001b[0m\n\u001b[1;32m   1023\u001b[0m \u001b[38;5;28;01melse\u001b[39;00m:\n\u001b[0;32m-> 1024\u001b[0m     \u001b[38;5;28;01mraise\u001b[39;00m NetworkXError(\u001b[38;5;124mf\u001b[39m\u001b[38;5;124m\"\u001b[39m\u001b[38;5;124mEdge tuple \u001b[39m\u001b[38;5;132;01m{\u001b[39;00me\u001b[38;5;132;01m}\u001b[39;00m\u001b[38;5;124m must be a 2-tuple or 3-tuple.\u001b[39m\u001b[38;5;124m\"\u001b[39m)\n\u001b[1;32m   1025\u001b[0m \u001b[38;5;28;01mif\u001b[39;00m u \u001b[38;5;129;01mnot\u001b[39;00m \u001b[38;5;129;01min\u001b[39;00m \u001b[38;5;28mself\u001b[39m\u001b[38;5;241m.\u001b[39m_node:\n",
      "\u001b[0;31mNetworkXError\u001b[0m: Edge tuple j must be a 2-tuple or 3-tuple.",
      "\nThe above exception was the direct cause of the following exception:\n",
      "\u001b[0;31mNetworkXError\u001b[0m                             Traceback (most recent call last)",
      "Cell \u001b[0;32mIn[29], line 35\u001b[0m\n\u001b[1;32m     32\u001b[0m world_graph \u001b[38;5;241m=\u001b[39m nx\u001b[38;5;241m.\u001b[39mGraph(name\u001b[38;5;241m=\u001b[39mconfig\u001b[38;5;241m.\u001b[39mworld\u001b[38;5;241m.\u001b[39mname, description\u001b[38;5;241m=\u001b[39mconfig\u001b[38;5;241m.\u001b[39mworld\u001b[38;5;241m.\u001b[39mdescription)\n\u001b[1;32m     34\u001b[0m \u001b[38;5;28;01mfor\u001b[39;00m location \u001b[38;5;129;01min\u001b[39;00m config\u001b[38;5;241m.\u001b[39mworld\u001b[38;5;241m.\u001b[39mlocations\u001b[38;5;241m.\u001b[39mitems():\n\u001b[0;32m---> 35\u001b[0m     \u001b[43mresolve_locations\u001b[49m\u001b[43m(\u001b[49m\u001b[43mworld_graph\u001b[49m\u001b[43m,\u001b[49m\u001b[43m \u001b[49m\u001b[43mlocation\u001b[49m\u001b[43m)\u001b[49m\n\u001b[1;32m     37\u001b[0m \u001b[38;5;28;01mfor\u001b[39;00m connection \u001b[38;5;129;01min\u001b[39;00m config\u001b[38;5;241m.\u001b[39mworld\u001b[38;5;241m.\u001b[39mconnections:\n\u001b[1;32m     38\u001b[0m     \u001b[38;5;28;01mfor\u001b[39;00m from_, to_ \u001b[38;5;129;01min\u001b[39;00m connection\u001b[38;5;241m.\u001b[39mitems():\n",
      "Cell \u001b[0;32mIn[29], line 22\u001b[0m, in \u001b[0;36mresolve_locations\u001b[0;34m(graph, location, parent)\u001b[0m\n\u001b[1;32m     18\u001b[0m         graph\u001b[38;5;241m.\u001b[39madd_edge(\u001b[38;5;124mf\u001b[39m\u001b[38;5;124m\"\u001b[39m\u001b[38;5;132;01m{\u001b[39;00mlocation_id\u001b[38;5;132;01m}\u001b[39;00m\u001b[38;5;124m_\u001b[39m\u001b[38;5;132;01m{\u001b[39;00mfrom_\u001b[38;5;132;01m}\u001b[39;00m\u001b[38;5;124m\"\u001b[39m, \u001b[38;5;124mf\u001b[39m\u001b[38;5;124m\"\u001b[39m\u001b[38;5;132;01m{\u001b[39;00mlocation_id\u001b[38;5;132;01m}\u001b[39;00m\u001b[38;5;124m_\u001b[39m\u001b[38;5;132;01m{\u001b[39;00mto_\u001b[38;5;132;01m}\u001b[39;00m\u001b[38;5;124m\"\u001b[39m)\n\u001b[1;32m     20\u001b[0m \u001b[38;5;28;01mif\u001b[39;00m location_config\u001b[38;5;241m.\u001b[39mlocations:\n\u001b[0;32m---> 22\u001b[0m     new_graph \u001b[38;5;241m=\u001b[39m \u001b[43mnx\u001b[49m\u001b[38;5;241;43m.\u001b[39;49m\u001b[43mGraph\u001b[49m\u001b[43m(\u001b[49m\u001b[43mlocation_id\u001b[49m\u001b[43m,\u001b[49m\u001b[43m \u001b[49m\u001b[43m_config\u001b[49m\u001b[38;5;241;43m=\u001b[39;49m\u001b[43mlocation_config\u001b[49m\u001b[43m)\u001b[49m\n\u001b[1;32m     24\u001b[0m     graph\u001b[38;5;241m.\u001b[39madd_node(new_graph, _config\u001b[38;5;241m=\u001b[39mlocation_config)\n\u001b[1;32m     25\u001b[0m     graph\u001b[38;5;241m.\u001b[39madd_edge(parent, new_graph)\n",
      "File \u001b[0;32m~/miniconda3/lib/python3.10/site-packages/networkx/classes/graph.py:370\u001b[0m, in \u001b[0;36mGraph.__init__\u001b[0;34m(self, incoming_graph_data, **attr)\u001b[0m\n\u001b[1;32m    368\u001b[0m \u001b[38;5;66;03m# attempt to load graph with data\u001b[39;00m\n\u001b[1;32m    369\u001b[0m \u001b[38;5;28;01mif\u001b[39;00m incoming_graph_data \u001b[38;5;129;01mis\u001b[39;00m \u001b[38;5;129;01mnot\u001b[39;00m \u001b[38;5;28;01mNone\u001b[39;00m:\n\u001b[0;32m--> 370\u001b[0m     \u001b[43mconvert\u001b[49m\u001b[38;5;241;43m.\u001b[39;49m\u001b[43mto_networkx_graph\u001b[49m\u001b[43m(\u001b[49m\u001b[43mincoming_graph_data\u001b[49m\u001b[43m,\u001b[49m\u001b[43m \u001b[49m\u001b[43mcreate_using\u001b[49m\u001b[38;5;241;43m=\u001b[39;49m\u001b[38;5;28;43mself\u001b[39;49m\u001b[43m)\u001b[49m\n\u001b[1;32m    371\u001b[0m \u001b[38;5;66;03m# load graph attributes (must be after convert)\u001b[39;00m\n\u001b[1;32m    372\u001b[0m \u001b[38;5;28mself\u001b[39m\u001b[38;5;241m.\u001b[39mgraph\u001b[38;5;241m.\u001b[39mupdate(attr)\n",
      "File \u001b[0;32m~/miniconda3/lib/python3.10/site-packages/networkx/convert.py:174\u001b[0m, in \u001b[0;36mto_networkx_graph\u001b[0;34m(data, create_using, multigraph_input)\u001b[0m\n\u001b[1;32m    172\u001b[0m         \u001b[38;5;28;01mreturn\u001b[39;00m from_edgelist(data, create_using\u001b[38;5;241m=\u001b[39mcreate_using)\n\u001b[1;32m    173\u001b[0m     \u001b[38;5;28;01mexcept\u001b[39;00m \u001b[38;5;167;01mException\u001b[39;00m \u001b[38;5;28;01mas\u001b[39;00m err:\n\u001b[0;32m--> 174\u001b[0m         \u001b[38;5;28;01mraise\u001b[39;00m nx\u001b[38;5;241m.\u001b[39mNetworkXError(\u001b[38;5;124m\"\u001b[39m\u001b[38;5;124mInput is not a valid edge list\u001b[39m\u001b[38;5;124m\"\u001b[39m) \u001b[38;5;28;01mfrom\u001b[39;00m \u001b[38;5;21;01merr\u001b[39;00m\n\u001b[1;32m    176\u001b[0m \u001b[38;5;28;01mraise\u001b[39;00m nx\u001b[38;5;241m.\u001b[39mNetworkXError(\u001b[38;5;124m\"\u001b[39m\u001b[38;5;124mInput is not a known data type for conversion.\u001b[39m\u001b[38;5;124m\"\u001b[39m)\n",
      "\u001b[0;31mNetworkXError\u001b[0m: Input is not a valid edge list"
     ]
    }
   ],
   "source": [
    "import networkx as nx\n",
    "from typing import Dict, Tuple\n",
    "import matplotlib.pyplot as plt\n",
    "\n",
    "def resolve_locations(graph: nx.Graph, location: Tuple[str, LocationConfig], parent: str = \"\"):\n",
    "    location_id, location_config = location\n",
    "    \n",
    "    location_id = f\"{parent}_{location_id}\" if parent else location_id\n",
    "    \n",
    "    print(\"PARENT\", parent, \"locationid\", location_id)\n",
    "    \n",
    "    \n",
    "    if parent:\n",
    "        graph.add_edge(location_id, parent)\n",
    "    \n",
    "    for connection in location_config.connections:\n",
    "        for from_, to_ in connection.items():\n",
    "            graph.add_edge(f\"{location_id}_{from_}\", f\"{location_id}_{to_}\")\n",
    "        \n",
    "    if location_config.locations:\n",
    "        \n",
    "        new_graph = nx.Graph(location_id, _config=location_config)\n",
    "        \n",
    "        graph.add_node(new_graph, _config=location_config)\n",
    "        graph.add_edge(parent, new_graph)\n",
    "        \n",
    "        for child_location in location_config.locations.items():\n",
    "            resolve_locations(new_graph, child_location, location_id)\n",
    "    \n",
    "\n",
    "\n",
    "world_graph = nx.Graph(name=config.world.name, description=config.world.description)\n",
    "\n",
    "for location in config.world.locations.items():\n",
    "    resolve_locations(world_graph, location)\n",
    "    \n",
    "for connection in config.world.connections:\n",
    "    for from_, to_ in connection.items():\n",
    "        world_graph.add_edge(from_, to_)\n",
    "\n",
    "\n",
    "nx.draw(world_graph, with_labels=True)\n",
    "plt.show()"
   ]
  },
  {
   "cell_type": "code",
   "execution_count": 25,
   "id": "83f9b900-f7bf-4584-ab3a-b070a0abdcfb",
   "metadata": {},
   "outputs": [
    {
     "ename": "SyntaxError",
     "evalue": "invalid syntax (3285019724.py, line 11)",
     "output_type": "error",
     "traceback": [
      "\u001b[0;36m  Cell \u001b[0;32mIn[25], line 11\u001b[0;36m\u001b[0m\n\u001b[0;31m    \"Phandalin Town Square\":\u001b[0m\n\u001b[0m                           ^\u001b[0m\n\u001b[0;31mSyntaxError\u001b[0m\u001b[0;31m:\u001b[0m invalid syntax\n"
     ]
    }
   ],
   "source": [
    "config = {\n",
    "    \"general\": {\n",
    "      \"global_time_limit\": 24,\n",
    "      \"max_attempts\": 2,\n",
    "      \"memory_limit\": 10,\n",
    "      \"prompt_meta\": \"### Instruction:\\n{}\\n### Response:\"\n",
    "    },\n",
    "    \n",
    "    \n",
    "    \"town_areas\": [\n",
    "            \"Phandalin Town Square\": \n",
    "            \"Town square of the town of Phandalin.\",\n",
    "          \"Stonehill Inn\": \"In the center of town stands a large, newly built roadhouse of fieldstone and rough-hewn timbers. The common room is filled with locals nursing mugs of ale or cider, all of them eyeing you with curiosity.\",\n",
    "          \"Barthen's Provisions\": \"Barthen’s is the biggest trading post in Phandalin. Its shelves stock most ordinary goods and supplies, including backpacks, bedrolls, rope, and rations. The place is open from sunup to sundown.\",\n",
    "      \"Edermath Orchard\": \"A tidy little cottage beside an apple orchard.\"\n",
    "    ],\n",
    "    \"town_people\": {\n",
    "        \"Toblen Stonehill\": {\n",
    "          \"description\": \"Owns a trading post.\",\n",
    "          \"starting_location\": \"Stonehill Inn\"\n",
    "        },\n",
    "        \"Daran Edermath\": {\n",
    "          \"description\": \"Daran Edermath is a retired adventurer who lives in a tidy little cottage beside an apple orchard. A fit, silver-haired half-elf well over a hundred years old, Daran is a fighter who served as a marshal and herald for many years in the lands of the Dragon Coast, far to the southeast. Upon retiring, he returned to the Neverwinter region, his original home.\",\n",
    "          \"starting_location\": \"Edermath Orchard\"\n",
    "        },\n",
    "        \"Linene Graywind\": {\n",
    "          \"description\": \"Runs a trading post.\",\n",
    "          \"starting_location\": \"Barthen's Provisions\"\n",
    "        },\n",
    "        \"Halia Thornton\": {\n",
    "          \"description\": \"An ambitious and calculating human woman. She is the guildmaster of Phandalin Miner’s Exchange, a trading post where local miners have their valuable finds weighed, measured, and paid out. In her attempts to establish the Miner's Exchange as the closest thing the town has to a governing authority, she acts as more than a simple merchant.\",\n",
    "          \"starting_location\": \"Phandalin Town Square\"\n",
    "        }\n",
    "      }\n",
    "}"
   ]
  },
  {
   "cell_type": "code",
   "execution_count": 110,
   "id": "b23518f5-b228-4d60-b302-0451133a4a8c",
   "metadata": {},
   "outputs": [
    {
     "name": "stdout",
     "output_type": "stream",
     "text": [
      "['yep', <networkx.classes.graph.Graph object at 0x117d6bcd0>]\n"
     ]
    },
    {
     "data": {
      "image/png": "[encoded data removed]",
      "text/plain": [
       "<Figure size 640x480 with 1 Axes>"
      ]
     },
     "metadata": {},
     "output_type": "display_data"
    }
   ],
   "source": [
    "import matplotlib.pyplot as plt\n",
    "\n",
    "g = nx.Graph(name=\"World\", description=\"What an awesome..\")\n",
    "g.graph[\"description\"]\n",
    "\n",
    "x = (\"yep\", dict(xj=\"2312\"))\n",
    "\n",
    "g.add_node(x[0], **x[1])\n",
    "\n",
    "h = nx.Graph(name=\"Moon\", description=\"What an awesome 2 ..\")\n",
    "\n",
    "h.add_node(\"blubb\")\n",
    "\n",
    "g.add_node(h)\n",
    "\n",
    "print(g.nodes)\n",
    "\n",
    "nx.draw(g, with_labels=True, font_weight='bold')\n",
    "plt.show()"
   ]
  },
  {
   "cell_type": "code",
   "execution_count": null,
   "id": "5aae5cd6-ce56-45f0-a9dd-658e8befa522",
   "metadata": {},
   "outputs": [],
   "source": []
  },
  {
   "cell_type": "code",
   "execution_count": null,
   "id": "4ac5507f-9e26-4acf-952d-5f9e7935f396",
   "metadata": {},
   "outputs": [],
   "source": []
  }
 ],
 "metadata": {
  "kernelspec": {
   "display_name": "Python 3 (ipykernel)",
   "language": "python",
   "name": "python3"
  },
  "language_info": {
   "codemirror_mode": {
    "name": "ipython",
    "version": 3
   },
   "file_extension": ".py",
   "mimetype": "text/x-python",
   "name": "python",
   "nbconvert_exporter": "python",
   "pygments_lexer": "ipython3",
   "version": "3.10.9"
  }
 },
 "nbformat": 4,
 "nbformat_minor": 5
}
