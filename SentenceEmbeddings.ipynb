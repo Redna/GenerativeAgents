{
 "cells": [
  {
   "cell_type": "markdown",
   "id": "fd0b8494-8513-40c9-aff0-8e0f676d76b2",
   "metadata": {},
   "source": [
    "# Retrieve memory \n",
    "\n",
    "In order to retrieve the memory the following formula is used: \n",
    "\n",
    "```\n",
    "score = alpha_recency * recency + alpha_importance * importance + alpha_relevance * relevance\n",
    "```\n",
    "\n",
    "where relevance is the similarity on sentences in the memory stream.\n"
   ]
  },
  {
   "cell_type": "code",
   "execution_count": 2,
   "id": "9a4e1672-0485-49e8-b031-c46dcffcd3f8",
   "metadata": {},
   "outputs": [],
   "source": [
    "! pip install sentence-transformers --quiet"
   ]
  },
  {
   "cell_type": "code",
   "execution_count": 3,
   "id": "51998ddb-2fa6-459c-b507-d4a949f6caf9",
   "metadata": {},
   "outputs": [],
   "source": [
    "from sentence_transformers import SentenceTransformer"
   ]
  },
  {
   "cell_type": "code",
   "execution_count": 4,
   "id": "2a0eb9b5-3ad7-4dce-9dcd-2029d8a50000",
   "metadata": {},
   "outputs": [],
   "source": [
    "sentences = [\"This is an example sentence\", \"Each sentence is converted\"]"
   ]
  },
  {
   "cell_type": "code",
   "execution_count": 5,
   "id": "aa010747-f06e-4432-add6-6154aaeb6ddf",
   "metadata": {},
   "outputs": [
    {
     "data": {
      "application/vnd.jupyter.widget-view+json": {
       "model_id": "52d833ad0deb42af904b8b3fa4bea169",
       "version_major": 2,
       "version_minor": 0
      },
      "text/plain": [
       "Downloading (…)a8e1d/.gitattributes:   0%|          | 0.00/1.18k [00:00<?, ?B/s]"
      ]
     },
     "metadata": {},
     "output_type": "display_data"
    },
    {
     "data": {
      "application/vnd.jupyter.widget-view+json": {
       "model_id": "ba56f0c1a16a42c0b4ac593ee2db15d7",
       "version_major": 2,
       "version_minor": 0
      },
      "text/plain": [
       "Downloading (…)_Pooling/config.json:   0%|          | 0.00/190 [00:00<?, ?B/s]"
      ]
     },
     "metadata": {},
     "output_type": "display_data"
    },
    {
     "data": {
      "application/vnd.jupyter.widget-view+json": {
       "model_id": "b5c005ae0db248fb89fd6e52e5887a03",
       "version_major": 2,
       "version_minor": 0
      },
      "text/plain": [
       "Downloading (…)b20bca8e1d/README.md:   0%|          | 0.00/10.6k [00:00<?, ?B/s]"
      ]
     },
     "metadata": {},
     "output_type": "display_data"
    },
    {
     "data": {
      "application/vnd.jupyter.widget-view+json": {
       "model_id": "29d7fdab98f54dc0a7abdc3333fc9815",
       "version_major": 2,
       "version_minor": 0
      },
      "text/plain": [
       "Downloading (…)0bca8e1d/config.json:   0%|          | 0.00/571 [00:00<?, ?B/s]"
      ]
     },
     "metadata": {},
     "output_type": "display_data"
    },
    {
     "data": {
      "application/vnd.jupyter.widget-view+json": {
       "model_id": "3f8dacfd8e58479cb74f3ede3ec081b8",
       "version_major": 2,
       "version_minor": 0
      },
      "text/plain": [
       "Downloading (…)ce_transformers.json:   0%|          | 0.00/116 [00:00<?, ?B/s]"
      ]
     },
     "metadata": {},
     "output_type": "display_data"
    },
    {
     "data": {
      "application/vnd.jupyter.widget-view+json": {
       "model_id": "059cdbbdce8c4045986db7dcb24a6aad",
       "version_major": 2,
       "version_minor": 0
      },
      "text/plain": [
       "Downloading (…)e1d/data_config.json:   0%|          | 0.00/39.3k [00:00<?, ?B/s]"
      ]
     },
     "metadata": {},
     "output_type": "display_data"
    },
    {
     "data": {
      "application/vnd.jupyter.widget-view+json": {
       "model_id": "88efdc9f3c7c473b88f7102c21cbf57b",
       "version_major": 2,
       "version_minor": 0
      },
      "text/plain": [
       "Downloading pytorch_model.bin:   0%|          | 0.00/438M [00:00<?, ?B/s]"
      ]
     },
     "metadata": {},
     "output_type": "display_data"
    },
    {
     "data": {
      "application/vnd.jupyter.widget-view+json": {
       "model_id": "2ff21887b244412a9f1ba586b3fb9f23",
       "version_major": 2,
       "version_minor": 0
      },
      "text/plain": [
       "Downloading (…)nce_bert_config.json:   0%|          | 0.00/53.0 [00:00<?, ?B/s]"
      ]
     },
     "metadata": {},
     "output_type": "display_data"
    },
    {
     "data": {
      "application/vnd.jupyter.widget-view+json": {
       "model_id": "edbf1aa899784aaeb5e8c89fb7842cc4",
       "version_major": 2,
       "version_minor": 0
      },
      "text/plain": [
       "Downloading (…)cial_tokens_map.json:   0%|          | 0.00/239 [00:00<?, ?B/s]"
      ]
     },
     "metadata": {},
     "output_type": "display_data"
    },
    {
     "data": {
      "application/vnd.jupyter.widget-view+json": {
       "model_id": "1e5353d7788a48ee84586658c37d1519",
       "version_major": 2,
       "version_minor": 0
      },
      "text/plain": [
       "Downloading (…)a8e1d/tokenizer.json:   0%|          | 0.00/466k [00:00<?, ?B/s]"
      ]
     },
     "metadata": {},
     "output_type": "display_data"
    },
    {
     "data": {
      "application/vnd.jupyter.widget-view+json": {
       "model_id": "81158c914a5c4a2584b3a8508f4991c1",
       "version_major": 2,
       "version_minor": 0
      },
      "text/plain": [
       "Downloading (…)okenizer_config.json:   0%|          | 0.00/363 [00:00<?, ?B/s]"
      ]
     },
     "metadata": {},
     "output_type": "display_data"
    },
    {
     "data": {
      "application/vnd.jupyter.widget-view+json": {
       "model_id": "2844477f6e9c4f589098dc479348e705",
       "version_major": 2,
       "version_minor": 0
      },
      "text/plain": [
       "Downloading (…)8e1d/train_script.py:   0%|          | 0.00/13.1k [00:00<?, ?B/s]"
      ]
     },
     "metadata": {},
     "output_type": "display_data"
    },
    {
     "data": {
      "application/vnd.jupyter.widget-view+json": {
       "model_id": "f6e809497813442da49a72e4d8edba7c",
       "version_major": 2,
       "version_minor": 0
      },
      "text/plain": [
       "Downloading (…)b20bca8e1d/vocab.txt:   0%|          | 0.00/232k [00:00<?, ?B/s]"
      ]
     },
     "metadata": {},
     "output_type": "display_data"
    },
    {
     "data": {
      "application/vnd.jupyter.widget-view+json": {
       "model_id": "7055a21fe59f4bb99c9112a356dd51d8",
       "version_major": 2,
       "version_minor": 0
      },
      "text/plain": [
       "Downloading (…)bca8e1d/modules.json:   0%|          | 0.00/349 [00:00<?, ?B/s]"
      ]
     },
     "metadata": {},
     "output_type": "display_data"
    }
   ],
   "source": [
    "model = SentenceTransformer('sentence-transformers/all-mpnet-base-v2')\n"
   ]
  },
  {
   "cell_type": "code",
   "execution_count": 6,
   "id": "d0df5c28-fb6f-48c1-8498-b46fdb7d4779",
   "metadata": {},
   "outputs": [
    {
     "name": "stdout",
     "output_type": "stream",
     "text": [
      "[[ 0.02250261 -0.07829182 -0.02303071 ... -0.0082793   0.0265269\n",
      "  -0.00201899]\n",
      " [ 0.04170237  0.00109743 -0.01553419 ... -0.0218163  -0.06359353\n",
      "  -0.00875287]]\n"
     ]
    }
   ],
   "source": [
    "embeddings = model.encode(sentences)\n",
    "print(embeddings)"
   ]
  },
  {
   "cell_type": "code",
   "execution_count": 7,
   "id": "743d146b-4f26-458f-86ed-3a273fc3793b",
   "metadata": {},
   "outputs": [],
   "source": [
    "from sentence_transformers import util"
   ]
  },
  {
   "cell_type": "code",
   "execution_count": 11,
   "id": "3b08a742-dc4a-459f-884b-41859cd17b13",
   "metadata": {},
   "outputs": [
    {
     "data": {
      "text/plain": [
       "(tensor([[0.4049]]), tensor([[0.4049]]))"
      ]
     },
     "execution_count": 11,
     "metadata": {},
     "output_type": "execute_result"
    }
   ],
   "source": [
    "util.cos_sim(embeddings[0], embeddings[1]), util.dot_score(embeddings[0], embeddings[1])"
   ]
  },
  {
   "cell_type": "code",
   "execution_count": 14,
   "id": "c0782427-e896-4a54-8f9d-8b330600d1eb",
   "metadata": {},
   "outputs": [
    {
     "data": {
      "text/plain": [
       "['John Miller is talking to Joffrey Hitch',\n",
       " 'Concersation with John Miller:\\nJack: Hey John, how are you?\\n John: Not too bad, but I am in a hurry!',\n",
       " 'Mary Jane is talking to Joffrey Hith',\n",
       " 'I do not like Mary Jane',\n",
       " 'John Miller is a candidate for the local elections',\n",
       " 'Joffrey Hitch is playing football']"
      ]
     },
     "execution_count": 14,
     "metadata": {},
     "output_type": "execute_result"
    }
   ],
   "source": [
    "memory = [\"John Miller is talking to Joffrey Hitch\", \"Concersation with John Miller:\\nJack: Hey John, how are you?\\n John: Not too bad, but I am in a hurry!\",\n",
    "            \"Mary Jane is talking to Joffrey Hith\", \"I do not like Mary Jane\", \"John Miller is a candidate for the local elections\", \"Joffrey Hitch is playing football\"]\n",
    "memory"
   ]
  },
  {
   "cell_type": "code",
   "execution_count": 16,
   "id": "95cb4cc6-7ddc-492c-9711-9601e465e391",
   "metadata": {},
   "outputs": [
    {
     "data": {
      "text/plain": [
       "array([[ 0.02797461, -0.00545399,  0.01230644, ...,  0.05385333,\n",
       "        -0.05131818, -0.00862585],\n",
       "       [ 0.01873845,  0.02841242,  0.00104995, ...,  0.03859605,\n",
       "         0.02256045, -0.01725716],\n",
       "       [-0.01971575,  0.02627514,  0.01229989, ...,  0.00060322,\n",
       "        -0.02120715, -0.00340566],\n",
       "       [ 0.00021376,  0.10502837,  0.01251344, ...,  0.02066376,\n",
       "        -0.00178182, -0.00581671],\n",
       "       [-0.0347418 ,  0.03495649,  0.03258074, ..., -0.00977991,\n",
       "        -0.02067453,  0.02775216],\n",
       "       [-0.02150117, -0.00321955,  0.00127185, ...,  0.06104549,\n",
       "        -0.0195896 , -0.01659957]], dtype=float32)"
      ]
     },
     "execution_count": 16,
     "metadata": {},
     "output_type": "execute_result"
    }
   ],
   "source": [
    "embeddings = model.encode(memory)\n",
    "embeddings"
   ]
  },
  {
   "cell_type": "code",
   "execution_count": 27,
   "id": "f8ffa65e-3185-4cd3-a999-d1b5ee8aea14",
   "metadata": {},
   "outputs": [
    {
     "data": {
      "text/plain": [
       "[('John Miller is talking to Joffrey Hitch', tensor([[0.6901]])),\n",
       " ('Joffrey Hitch is playing football', tensor([[0.6781]])),\n",
       " ('Mary Jane is talking to Joffrey Hith', tensor([[0.4025]])),\n",
       " ('John Miller is a candidate for the local elections', tensor([[0.2831]])),\n",
       " ('Concersation with John Miller:\\nJack: Hey John, how are you?\\n John: Not too bad, but I am in a hurry!',\n",
       "  tensor([[0.2471]])),\n",
       " ('I do not like Mary Jane', tensor([[0.1230]]))]"
      ]
     },
     "execution_count": 27,
     "metadata": {},
     "output_type": "execute_result"
    }
   ],
   "source": [
    "query_embedding = model.encode(\"Who is Joffrey Hitch\")\n",
    "\n",
    "similarities = [(sentence, util.dot_score(query_embedding, embedding)) for embedding, sentence in zip(embeddings, sentence)]\n",
    "similarities\n",
    "\n",
    "sorted(similarities, key=lambda x: x[1], reverse=True)"
   ]
  },
  {
   "cell_type": "code",
   "execution_count": 28,
   "id": "37ead587-db74-4a9f-b0b9-2d4c2ea085d5",
   "metadata": {},
   "outputs": [
    {
     "data": {
      "text/plain": [
       "[('John Miller is a candidate for the local elections', tensor([[0.7751]])),\n",
       " ('John Miller is talking to Joffrey Hitch', tensor([[0.6414]])),\n",
       " ('Concersation with John Miller:\\nJack: Hey John, how are you?\\n John: Not too bad, but I am in a hurry!',\n",
       "  tensor([[0.6066]])),\n",
       " ('Joffrey Hitch is playing football', tensor([[0.2635]])),\n",
       " ('Mary Jane is talking to Joffrey Hith', tensor([[0.1696]])),\n",
       " ('I do not like Mary Jane', tensor([[0.1315]]))]"
      ]
     },
     "execution_count": 28,
     "metadata": {},
     "output_type": "execute_result"
    }
   ],
   "source": [
    "query_embedding = model.encode(\"Who is John Miller?\")\n",
    "\n",
    "similarities = [(sentence, util.dot_score(query_embedding, embedding)) for embedding, sentence in zip(embeddings, sentence)]\n",
    "similarities\n",
    "\n",
    "sorted(similarities, key=lambda x: x[1], reverse=True)"
   ]
  },
  {
   "cell_type": "code",
   "execution_count": null,
   "id": "4da055e1-e598-464c-bbb7-727bfb0bcd04",
   "metadata": {},
   "outputs": [],
   "source": []
  }
 ],
 "metadata": {
  "kernelspec": {
   "display_name": "lab_env",
   "language": "python",
   "name": "lab_env"
  },
  "language_info": {
   "codemirror_mode": {
    "name": "ipython",
    "version": 3
   },
   "file_extension": ".py",
   "mimetype": "text/x-python",
   "name": "python",
   "nbconvert_exporter": "python",
   "pygments_lexer": "ipython3",
   "version": "3.10.6"
  }
 },
 "nbformat": 4,
 "nbformat_minor": 5
}
