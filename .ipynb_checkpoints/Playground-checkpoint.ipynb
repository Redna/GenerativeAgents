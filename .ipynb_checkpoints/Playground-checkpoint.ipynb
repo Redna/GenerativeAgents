{
 "cells": [
  {
   "cell_type": "code",
   "execution_count": 46,
   "id": "ee9d8241-8a05-47dc-8f1f-17893b116e4a",
   "metadata": {
    "tags": []
   },
   "outputs": [
    {
     "name": "stdout",
     "output_type": "stream",
     "text": [
      "Requirement already satisfied: pydantic in ./miniconda3/lib/python3.10/site-packages (1.10.9)\n",
      "Requirement already satisfied: typing-extensions>=4.2.0 in ./miniconda3/lib/python3.10/site-packages (from pydantic) (4.5.0)\n",
      "\u001b[31mERROR: Could not find a version that satisfies the requirement yaml (from versions: none)\u001b[0m\u001b[31m\n",
      "\u001b[0m\u001b[31mERROR: No matching distribution found for yaml\u001b[0m\u001b[31m\n",
      "\u001b[0mCollecting networkx\n",
      "  Using cached networkx-3.1-py3-none-any.whl (2.1 MB)\n",
      "Installing collected packages: networkx\n",
      "Successfully installed networkx-3.1\n"
     ]
    }
   ],
   "source": [
    "!pip install pydantic\n",
    "!pip install yaml\n",
    "!pip install networkx"
   ]
  },
  {
   "cell_type": "code",
   "execution_count": 47,
   "id": "2ae1661c-aac7-40e5-9173-1975ae691ffd",
   "metadata": {
    "tags": []
   },
   "outputs": [
    {
     "ename": "RuntimeError",
     "evalue": "no validator found for <class 'networkx.classes.graph.Graph'>, see `arbitrary_types_allowed` in Config",
     "output_type": "error",
     "traceback": [
      "\u001b[0;31m---------------------------------------------------------------------------\u001b[0m",
      "\u001b[0;31mRuntimeError\u001b[0m                              Traceback (most recent call last)",
      "Cell \u001b[0;32mIn[47], line 5\u001b[0m\n\u001b[1;32m      2\u001b[0m \u001b[38;5;28;01mfrom\u001b[39;00m \u001b[38;5;21;01mtyping\u001b[39;00m \u001b[38;5;28;01mimport\u001b[39;00m Dict, List\n\u001b[1;32m      3\u001b[0m \u001b[38;5;28;01mimport\u001b[39;00m \u001b[38;5;21;01mnetworkx\u001b[39;00m \u001b[38;5;28;01mas\u001b[39;00m \u001b[38;5;21;01mnx\u001b[39;00m\n\u001b[0;32m----> 5\u001b[0m \u001b[38;5;28;01mclass\u001b[39;00m \u001b[38;5;21;01mLocationConfig\u001b[39;00m(BaseModel):\n\u001b[1;32m      6\u001b[0m     name: \u001b[38;5;28mstr\u001b[39m\n\u001b[1;32m      7\u001b[0m     description: \u001b[38;5;28mstr\u001b[39m\n",
      "File \u001b[0;32m~/miniconda3/lib/python3.10/site-packages/pydantic/main.py:197\u001b[0m, in \u001b[0;36mpydantic.main.ModelMetaclass.__new__\u001b[0;34m()\u001b[0m\n",
      "File \u001b[0;32m~/miniconda3/lib/python3.10/site-packages/pydantic/fields.py:506\u001b[0m, in \u001b[0;36mpydantic.fields.ModelField.infer\u001b[0;34m()\u001b[0m\n",
      "File \u001b[0;32m~/miniconda3/lib/python3.10/site-packages/pydantic/fields.py:436\u001b[0m, in \u001b[0;36mpydantic.fields.ModelField.__init__\u001b[0;34m()\u001b[0m\n",
      "File \u001b[0;32m~/miniconda3/lib/python3.10/site-packages/pydantic/fields.py:557\u001b[0m, in \u001b[0;36mpydantic.fields.ModelField.prepare\u001b[0;34m()\u001b[0m\n",
      "File \u001b[0;32m~/miniconda3/lib/python3.10/site-packages/pydantic/fields.py:831\u001b[0m, in \u001b[0;36mpydantic.fields.ModelField.populate_validators\u001b[0;34m()\u001b[0m\n",
      "File \u001b[0;32m~/miniconda3/lib/python3.10/site-packages/pydantic/validators.py:765\u001b[0m, in \u001b[0;36mfind_validators\u001b[0;34m()\u001b[0m\n",
      "\u001b[0;31mRuntimeError\u001b[0m: no validator found for <class 'networkx.classes.graph.Graph'>, see `arbitrary_types_allowed` in Config"
     ]
    }
   ],
   "source": [
    "from pydantic import BaseModel, root_validator\n",
    "from typing import Dict, List\n",
    "import networkx as nx\n",
    "\n",
    "class LocationConfig(BaseModel):\n",
    "    name: str\n",
    "    description: str\n",
    "    locations: Dict[str, 'LocationConfig'] = None\n",
    "    connects_with: List[str] = []\n",
    "    \n",
    "    @root_validator\n",
    "    def check_connects_with(cls, values):\n",
    "        if not values.get(\"locations\"):\n",
    "            return values\n",
    "        \n",
    "        location_names = [name for name, _ in values.get(\"locations\").items()]\n",
    "        \n",
    "        for connect_with in values.get(\"connects_with\"):\n",
    "            for name in location_names:\n",
    "                connect_with == name\n",
    "                continue\n",
    "            \n",
    "            raise ValueError(f\"Connection <{connect_with}> does not exist in {location_names}\")\n",
    "        \n",
    "        return values\n",
    "    \n",
    "class SimulationConfig(BaseModel):\n",
    "    world: LocationConfig\n"
   ]
  },
  {
   "cell_type": "code",
   "execution_count": 41,
   "id": "2d34f9f8-aa4e-4459-993d-f18656f4d998",
   "metadata": {
    "tags": []
   },
   "outputs": [
    {
     "name": "stdout",
     "output_type": "stream",
     "text": [
      "{'world': {'name': 'Awesome World', 'description': 'It is all awesome here.', 'locations': {'townhall': {'name': 'Jims Townhall', 'description': 'The place to be ;)', 'connects_with': ['jims_cafe']}, 'jims_cafe': {'name': 'Jims Cafe', 'description': 'Cozy coffee', 'connects_with': ['townhall']}, 'johnson_house': {'name': 'Johnson House', 'description': 'The Johnson Family lives here', 'connects_with': ['jims_cafe']}}}}\n"
     ]
    }
   ],
   "source": [
    "import yaml\n",
    "\n",
    "with open(\"gen_agent/config.yaml\", \"rb\") as file:\n",
    "    _config = yaml.safe_load(file)\n",
    "    print(_config)\n",
    "    config = SimulationConfig(**_config)"
   ]
  },
  {
   "cell_type": "code",
   "execution_count": null,
   "id": "83f9b900-f7bf-4584-ab3a-b070a0abdcfb",
   "metadata": {},
   "outputs": [],
   "source": [
    "config = {\n",
    "    \"general\": {\n",
    "      \"global_time_limit\": 24,\n",
    "      \"max_attempts\": 2,\n",
    "      \"memory_limit\": 10,\n",
    "      \"prompt_meta\": \"### Instruction:\\n{}\\n### Response:\"\n",
    "    },\n",
    "    \n",
    "    \n",
    "    \"town_areas\": [\n",
    "            \"Phandalin Town Square\": \n",
    "            \"Town square of the town of Phandalin.\",\n",
    "          \"Stonehill Inn\": \"In the center of town stands a large, newly built roadhouse of fieldstone and rough-hewn timbers. The common room is filled with locals nursing mugs of ale or cider, all of them eyeing you with curiosity.\",\n",
    "          \"Barthen's Provisions\": \"Barthen’s is the biggest trading post in Phandalin. Its shelves stock most ordinary goods and supplies, including backpacks, bedrolls, rope, and rations. The place is open from sunup to sundown.\",\n",
    "      \"Edermath Orchard\": \"A tidy little cottage beside an apple orchard.\"\n",
    "    ],\n",
    "    \"town_people\": {\n",
    "        \"Toblen Stonehill\": {\n",
    "          \"description\": \"Owns a trading post.\",\n",
    "          \"starting_location\": \"Stonehill Inn\"\n",
    "        },\n",
    "        \"Daran Edermath\": {\n",
    "          \"description\": \"Daran Edermath is a retired adventurer who lives in a tidy little cottage beside an apple orchard. A fit, silver-haired half-elf well over a hundred years old, Daran is a fighter who served as a marshal and herald for many years in the lands of the Dragon Coast, far to the southeast. Upon retiring, he returned to the Neverwinter region, his original home.\",\n",
    "          \"starting_location\": \"Edermath Orchard\"\n",
    "        },\n",
    "        \"Linene Graywind\": {\n",
    "          \"description\": \"Runs a trading post.\",\n",
    "          \"starting_location\": \"Barthen's Provisions\"\n",
    "        },\n",
    "        \"Halia Thornton\": {\n",
    "          \"description\": \"An ambitious and calculating human woman. She is the guildmaster of Phandalin Miner’s Exchange, a trading post where local miners have their valuable finds weighed, measured, and paid out. In her attempts to establish the Miner's Exchange as the closest thing the town has to a governing authority, she acts as more than a simple merchant.\",\n",
    "          \"starting_location\": \"Phandalin Town Square\"\n",
    "        }\n",
    "      }\n",
    "}"
   ]
  },
  {
   "cell_type": "code",
   "execution_count": 45,
   "id": "b23518f5-b228-4d60-b302-0451133a4a8c",
   "metadata": {},
   "outputs": [
    {
     "ename": "ModuleNotFoundError",
     "evalue": "No module named 'networkx'",
     "output_type": "error",
     "traceback": [
      "\u001b[0;31m---------------------------------------------------------------------------\u001b[0m",
      "\u001b[0;31mModuleNotFoundError\u001b[0m                       Traceback (most recent call last)",
      "Cell \u001b[0;32mIn[45], line 1\u001b[0m\n\u001b[0;32m----> 1\u001b[0m \u001b[38;5;28;01mimport\u001b[39;00m \u001b[38;5;21;01mnetworkx\u001b[39;00m \u001b[38;5;28;01mas\u001b[39;00m \u001b[38;5;21;01mnx\u001b[39;00m\n\u001b[1;32m      5\u001b[0m world_graph \u001b[38;5;241m=\u001b[39m nx\u001b[38;5;241m.\u001b[39mGraph()\n",
      "\u001b[0;31mModuleNotFoundError\u001b[0m: No module named 'networkx'"
     ]
    }
   ],
   "source": [
    "import networkx as nx\n",
    "\n",
    "\n",
    "\n",
    "world_graph = nx.Graph()\n",
    "\n",
    "\n"
   ]
  },
  {
   "cell_type": "code",
   "execution_count": null,
   "id": "4ac5507f-9e26-4acf-952d-5f9e7935f396",
   "metadata": {},
   "outputs": [],
   "source": []
  }
 ],
 "metadata": {
  "kernelspec": {
   "display_name": "Python 3 (ipykernel)",
   "language": "python",
   "name": "python3"
  },
  "language_info": {
   "codemirror_mode": {
    "name": "ipython",
    "version": 3
   },
   "file_extension": ".py",
   "mimetype": "text/x-python",
   "name": "python",
   "nbconvert_exporter": "python",
   "pygments_lexer": "ipython3",
   "version": "3.10.9"
  }
 },
 "nbformat": 4,
 "nbformat_minor": 5
}
